{
 "cells": [
  {
   "cell_type": "code",
   "execution_count": null,
   "id": "8185e238",
   "metadata": {},
   "outputs": [
    {
     "name": "stdout",
     "output_type": "stream",
     "text": [
      "  Nombre  Edad\n",
      "0  Maria    27\n",
      "1   Jose    28\n",
      "2  Jisus    33\n",
      "  Nombre  Edad Profesion                       Correo Identificacion\n",
      "0  Maria    27    Virgen  mariamadredejesus@gmail.com      123456789\n",
      "1   Jose    28    Papito   josepadredejesus@gmail.com      987654321\n",
      "2  Jisus    33    Mesias          yotesalvo@gmail.com      111111111\n"
     ]
    }
   ],
   "source": [
    "import pandas as pd\n",
    "\n",
    "df = pd.DataFrame([['Maria', 27],['Jose', 28],['Jisus', 33]],\n",
    "                  columns = ['Nombre', 'Edad'])\n",
    "\n",
    "\n",
    "df['Profesion']= ['Virgen', 'Papito', 'Mesias' ]\n",
    "df['Correo'] = ['mariamadredejesus@gmail.com', 'josepadredejesus@gmail.com', 'yotesalvo@gmail.com']\n",
    "df['Identificacion'] = ['123456789', '987654321', '111111111']\n",
    "\n",
    "print(df)"
   ]
  }
 ],
 "metadata": {
  "kernelspec": {
   "display_name": "Python 3",
   "language": "python",
   "name": "python3"
  },
  "language_info": {
   "codemirror_mode": {
    "name": "ipython",
    "version": 3
   },
   "file_extension": ".py",
   "mimetype": "text/x-python",
   "name": "python",
   "nbconvert_exporter": "python",
   "pygments_lexer": "ipython3",
   "version": "3.13.1"
  }
 },
 "nbformat": 4,
 "nbformat_minor": 5
}
