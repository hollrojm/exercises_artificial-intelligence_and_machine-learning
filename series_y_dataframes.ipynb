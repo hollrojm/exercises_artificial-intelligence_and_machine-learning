{
 "cells": [
  {
   "cell_type": "code",
   "execution_count": null,
   "id": "8185e238",
   "metadata": {},
   "outputs": [
    {
     "name": "stdout",
     "output_type": "stream",
     "text": [
      "  Nombre  Edad\n",
      "0  Maria    27\n",
      "1   Jose    28\n",
      "2  Jisus    33\n",
      "  Nombre  Edad Profesion                       Correo Identificacion\n",
      "0  Maria    27    Virgen  mariamadredejesus@gmail.com      123456789\n",
      "1   Jose    28    Papito   josepadredejesus@gmail.com      987654321\n",
      "2  Jisus    33    Mesias          yotesalvo@gmail.com      111111111\n"
     ]
    }
   ],
   "source": [
    "import pandas as pd\n",
    "\n",
    "df = pd.DataFrame([['Maria', 27],['Jose', 28],['Jisus', 33]],\n",
    "                  columns = ['Nombre', 'Edad'])\n",
    "\n",
    "\n",
    "df['Profesion']= ['Virgen', 'Papito', 'Mesias' ]\n",
    "df['Correo'] = ['mariamadredejesus@gmail.com', 'josepadredejesus@gmail.com', 'yotesalvo@gmail.com']\n",
    "df['Identificacion'] = ['123456789', '987654321', '111111111']\n",
    "\n",
    "print(df)"
   ]
  },
  {
   "cell_type": "code",
   "execution_count": 7,
   "id": "3991a840",
   "metadata": {},
   "outputs": [
    {
     "name": "stdout",
     "output_type": "stream",
     "text": [
      "   A  B  C\n",
      "0  1  2  3\n",
      "1  4  5  6\n",
      "2  7  8  9\n"
     ]
    }
   ],
   "source": [
    "import pandas as pd\n",
    "import numpy as np\n",
    "\n",
    "df = pd.DataFrame(np.array([[1,2,3],[4,5,6],[7,8,9]]), columns=['A','B','C'])\n",
    "\n",
    "print(df)"
   ]
  },
  {
   "cell_type": "code",
   "execution_count": 12,
   "id": "cb5b1d82",
   "metadata": {},
   "outputs": [
    {
     "name": "stdout",
     "output_type": "stream",
     "text": [
      "   Columna_1  Columna_2  Columna_3 Columna_4\n",
      "0  -0.573898  -0.297854   1.010012   texto_0\n",
      "1  -0.028983  -0.903899   0.734777   texto_1\n",
      "2   0.432701  -1.959683   1.722442   texto_2\n",
      "3  -0.727976  -0.026388   0.323281   texto_3\n",
      "4   0.926561   0.471020   1.087603   texto_4\n"
     ]
    }
   ],
   "source": [
    "import pandas as pd\n",
    "import numpy as np\n",
    "\n",
    "df = pd.DataFrame(np.random.randn(5,4), columns=['Columna_1', 'Columna_2', 'Columna_3', 'Columna_4'])\n",
    "df['Columna_4'] = [f'texto_{i}' for i in range(5)]\n",
    "print(df)"
   ]
  }
 ],
 "metadata": {
  "kernelspec": {
   "display_name": "Python 3",
   "language": "python",
   "name": "python3"
  },
  "language_info": {
   "codemirror_mode": {
    "name": "ipython",
    "version": 3
   },
   "file_extension": ".py",
   "mimetype": "text/x-python",
   "name": "python",
   "nbconvert_exporter": "python",
   "pygments_lexer": "ipython3",
   "version": "3.13.1"
  }
 },
 "nbformat": 4,
 "nbformat_minor": 5
}
