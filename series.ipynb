{
 "cells": [
  {
   "cell_type": "code",
   "execution_count": 11,
   "id": "3017bdbd",
   "metadata": {},
   "outputs": [
    {
     "name": "stdout",
     "output_type": "stream",
     "text": [
      "0              Técnica\n",
      "1                   95\n",
      "2               Inglés\n",
      "3                   85\n",
      "4    Habilidades duras\n",
      "5                   90\n",
      "dtype: object\n"
     ]
    }
   ],
   "source": [
    "import pandas as pd\n",
    "materias_diccionario = ({'Técnica': 95, 'Inglés': 85, 'Habilidades duras':90})\n",
    "materias_tuplas= ('Técnica', 95, 'Inglés', 85, 'Habilidades duras',90)\n",
    "\n",
    "materias_tuplas_ser = pd.Series(materias_tuplas)\n",
    "print(materias_tuplas_ser)\n",
    "\n"
   ]
  },
  {
   "cell_type": "code",
   "execution_count": 12,
   "id": "1d4d7fee",
   "metadata": {},
   "outputs": [
    {
     "name": "stdout",
     "output_type": "stream",
     "text": [
      "Reggae         Bob Marley\n",
      "Pop        Michal Jackson\n",
      "Rock      Freddie Mercury\n",
      "Rock        Elvis Presley\n",
      "Rock          John Lennon\n",
      "dtype: object\n"
     ]
    }
   ],
   "source": [
    "lista_de_datos = ['Bob Marley', 'Michal Jackson', 'Freddie Mercury', 'Elvis Presley', 'John Lennon']\n",
    "indeices = ['Reggae', 'Pop', 'Rock', 'Rock', 'Rock']\n",
    "serie = pd.Series(lista_de_datos, index=indeices)\n",
    "print(serie)"
   ]
  },
  {
   "cell_type": "code",
   "execution_count": 14,
   "id": "93311a4c",
   "metadata": {},
   "outputs": [
    {
     "name": "stdout",
     "output_type": "stream",
     "text": [
      "            Nombre  Edad  Estilo\n",
      "0       Bob Marley    36  Reggae\n",
      "1   Michal Jackson    50     Pop\n",
      "2  Freddie Mercury    45    Rock\n",
      "3    Elvis Presley    42    Rock\n",
      "4      John Lennon    40    Rock\n"
     ]
    }
   ],
   "source": [
    "data = {'Nombre': ['Bob Marley', 'Michal Jackson', 'Freddie Mercury', 'Elvis Presley', 'John Lennon'],\n",
    "        'Edad': [36, 50, 45, 42, 40],\n",
    "        'Estilo': ['Reggae', 'Pop', 'Rock', 'Rock', 'Rock']\n",
    "        }\n",
    "cantantes_df = pd.DataFrame(data)\n",
    "print(cantantes_df)"
   ]
  },
  {
   "cell_type": "code",
   "execution_count": null,
   "id": "12150b2a",
   "metadata": {},
   "outputs": [],
   "source": []
  },
  {
   "cell_type": "code",
   "execution_count": null,
   "id": "308555e8",
   "metadata": {},
   "outputs": [],
   "source": []
  }
 ],
 "metadata": {
  "kernelspec": {
   "display_name": "Python 3",
   "language": "python",
   "name": "python3"
  },
  "language_info": {
   "codemirror_mode": {
    "name": "ipython",
    "version": 3
   },
   "file_extension": ".py",
   "mimetype": "text/x-python",
   "name": "python",
   "nbconvert_exporter": "python",
   "pygments_lexer": "ipython3",
   "version": "3.13.1"
  }
 },
 "nbformat": 4,
 "nbformat_minor": 5
}
