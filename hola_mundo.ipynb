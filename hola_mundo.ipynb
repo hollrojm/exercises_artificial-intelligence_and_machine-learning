{
 "cells": [
  {
   "cell_type": "markdown",
   "id": "20ea30b3",
   "metadata": {},
   "source": [
    "Escribir un programa que muestre por pantalla la cadena ¡Hola Mundo!."
   ]
  },
  {
   "cell_type": "code",
   "execution_count": null,
   "id": "cd8e63d1",
   "metadata": {},
   "outputs": [
    {
     "name": "stdout",
     "output_type": "stream",
     "text": [
      "Hola Mundo\n"
     ]
    }
   ],
   "source": [
    "\n",
    "cadena = '!Hola Mundo!'\n",
    "print(cadena)"
   ]
  },
  {
   "cell_type": "markdown",
   "id": "4a966a39",
   "metadata": {},
   "source": [
    "Escribir un programa que pregunte el nombre del usuario en la consola y después de \n",
    "que el usuario lo introduzca muestre por pantalla la cadena ¡Hola <nombre>!, donde \n",
    "<nombre> es el nombre que el usuario haya introducido."
   ]
  },
  {
   "cell_type": "code",
   "execution_count": 11,
   "id": "ffa298be",
   "metadata": {},
   "outputs": [
    {
     "name": "stdout",
     "output_type": "stream",
     "text": [
      "¡Hola hollman!\n"
     ]
    }
   ],
   "source": [
    "nombre = input('¿Cuál es tu nombre? ')\n",
    "print(f'¡Hola {nombre}!')"
   ]
  },
  {
   "cell_type": "code",
   "execution_count": 14,
   "id": "cb91a256",
   "metadata": {},
   "outputs": [
    {
     "name": "stdout",
     "output_type": "stream",
     "text": [
      "1.1111111111111112\n"
     ]
    }
   ],
   "source": [
    "print((3+2)/4.5)"
   ]
  },
  {
   "cell_type": "code",
   "execution_count": null,
   "id": "d2643be4",
   "metadata": {},
   "outputs": [
    {
     "name": "stdout",
     "output_type": "stream",
     "text": [
      "La suma de todos los enteros desde 1 hasta 5 es: 3.0\n"
     ]
    }
   ],
   "source": [
    "def calcular_suma(n):\n",
    "    return (n*(n + 1))/2\n",
    "\n",
    "\n",
    "while True:\n",
    "    try:\n",
    "        n = int(input(\"Introduce un número entero positivo: \"))\n",
    "        if n <= 0:\n",
    "            print(\"Error: Debes introducir un número entero positivo.\")\n",
    "            continue\n",
    "        break\n",
    "    except ValueError:\n",
    "            print(\"Error: Debes introducir un número válido.\")\n",
    "    \n",
    "    suma = calcular_suma(n)\n",
    "    \n",
    "print(f\"La suma de todos los enteros desde 1 hasta {n} es: {suma}\")"
   ]
  },
  {
   "cell_type": "code",
   "execution_count": null,
   "id": "642a511c",
   "metadata": {},
   "outputs": [],
   "source": [
    "\n",
    "\n",
    "\n",
    "def calcular_total_con_iva(cantidad_sin_iva, porcentaje_iva=21):\n",
    "    while True:\n",
    "        try:\n",
    "            cantidad_sin_iva = float(input(\"Introduce la cantidad sin IVA: \"))\n",
    "            if cantidad_sin_iva < 0:\n",
    "                print(\"La cantidad sin IVA no puede ser negativa.\")\n",
    "                continue\n",
    "            break\n",
    "        except ValueError:\n",
    "            print(\"Error: Debes introducir un número válido.\")\n",
    "    if cantidad_sin_iva < 0:\n",
    "        print(\"La cantidad sin IVA no puede ser negativa\")\n",
    "        \n",
    "    if porcentaje_iva < 0:\n",
    "        print(\"El porcentaje de IVA no puede ser negativo\")\n",
    "    \n",
    "    iva = cantidad_sin_iva * (porcentaje_iva / 100)\n",
    "    \n",
    "    total = cantidad_sin_iva + iva\n",
    "    \n",
    "    return total\n",
    "\n",
    "print(f\"El total con IVA es: {calcular_total_con_iva(1)}\")"
   ]
  },
  {
   "cell_type": "code",
   "execution_count": null,
   "id": "67545472",
   "metadata": {},
   "outputs": [
    {
     "name": "stdout",
     "output_type": "stream",
     "text": [
      "Las asignaturas del curso son:\n",
      "- Matemáticas\n",
      "- Física\n",
      "- Química\n",
      "- Historia\n",
      "- Lengua\n"
     ]
    }
   ],
   "source": [
    "asignaturas = [\"Matemáticas\", \"Física\", \"Química\", \"Historia\", \"Lengua\"]\n",
    "print(\"Las asignaturas del curso son:\")\n",
    "for asignatura in asignaturas:\n",
    "    print(f\"- {asignatura}\")"
   ]
  }
 ],
 "metadata": {
  "kernelspec": {
   "display_name": "Python 3",
   "language": "python",
   "name": "python3"
  },
  "language_info": {
   "codemirror_mode": {
    "name": "ipython",
    "version": 3
   },
   "file_extension": ".py",
   "mimetype": "text/x-python",
   "name": "python",
   "nbconvert_exporter": "python",
   "pygments_lexer": "ipython3",
   "version": "3.13.1"
  }
 },
 "nbformat": 4,
 "nbformat_minor": 5
}
